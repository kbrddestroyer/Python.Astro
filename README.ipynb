{
 "cells": [
  {
   "cell_type": "markdown",
   "id": "e85f5f2e3dc726f",
   "metadata": {},
   "source": [
    "## Euler's integration"
   ]
  },
  {
   "cell_type": "code",
   "id": "2ecb698f-0cbf-4581-8b8d-719c18c0b897",
   "metadata": {},
   "source": [
    "# Init simulation\n",
    "\n",
    "import pygame\n",
    "from matplotlib import pyplot as plt\n",
    "\n",
    "from physics import kinetic, universe, universe_utils\n",
    "from graphics import manager\n",
    "\n",
    "pygame.display.set_mode = lambda *_: None\n",
    "kinetic.Spawner.tick = lambda *_ : None\n",
    "\n",
    "mgr = manager.Manager()\n",
    "\n",
    "TICKS = 200\n",
    "DT = 5\n",
    "\n",
    "uni = universe.Universe()"
   ],
   "outputs": [],
   "execution_count": null
  },
  {
   "cell_type": "code",
   "id": "6e282cfa-e3f7-4953-8d8f-78fbccf3b376",
   "metadata": {},
   "source": [
    "import unifile\n",
    "unifile.initialize()\n",
    "sun = uni.kinetic_registry._Registry__registry[0]\n",
    "\n",
    "x = []\n",
    "planets = [ planet.name for planet in uni.kinetic_registry ]\n",
    "y = [ [] for _ in uni.kinetic_registry ]\n",
    "ax = [ [] for _ in uni.kinetic_registry ]\n",
    "ay = [ [] for _ in uni.kinetic_registry ]\n",
    "dr = [ [] for _ in uni.kinetic_registry ]\n",
    "E = [ [] for _ in uni.kinetic_registry ]\n",
    "\n",
    "for tick in range(TICKS):\n",
    "    for i in range(len(uni.kinetic_registry)):\n",
    "        planet = uni.kinetic_registry._Registry__registry[i]\n",
    "        y[i].append(planet.current_velocity.magnitude)\n",
    "    \n",
    "        ax[i].append(planet.current_velocity.x)\n",
    "        ay[i].append(planet.current_velocity.y)\n",
    "        Ek = (planet.current_velocity.magnitude ** 2) / 2\n",
    "        Ep = universe_utils.distance(planet, sun)\n",
    "        E[i].append(Ek + Ep)\n",
    "        dr[i].append(universe_utils.distance(planet, sun))\n",
    "    x.append(DT * tick)\n",
    "    uni.tick(DT)"
   ],
   "outputs": [],
   "execution_count": null
  },
  {
   "cell_type": "code",
   "id": "1e61ceaf-0852-4e86-9e5e-c5bbfc5315ac",
   "metadata": {},
   "source": [
    "for Ep in E[1:]:\n",
    "    if len(x) != len(Ep):\n",
    "        continue\n",
    "    avg = sum(Ep) / len(Ep)\n",
    "    err = [ ((energy / avg) - 1) * 100 for energy in Ep ]\n",
    "    plt.plot(x, err, label=f\"{planets[E.index(Ep)]}\")\n",
    "    \n",
    "plt.legend()\n",
    "plt.title(f\"System energy error over time\")\n",
    "plt.xlabel('Time')\n",
    "plt.ylabel('drift, %')\n",
    "plt.show()\n",
    "\n",
    "plt.plot(x, y[3])\n",
    "plt.plot(x, ax[3])\n",
    "plt.plot(x, ay[3])\n",
    "plt.xlabel('Time')\n",
    "plt.ylabel('Velocity (magnitude, x, y)')\n",
    "\n",
    "plt.title('Earth velocity over time (magnitude, velocity.x, velocity.y)')\n",
    "\n",
    "plt.show()\n",
    "\n",
    "plt.plot(x, dr[3])\n",
    "\n",
    "aphelion = dr[3].index(max(dr[3]))\n",
    "perihelion = dr[3].index(min(dr[3]))\n",
    "\n",
    "plt.plot(x[aphelion], dr[3][aphelion], 'ro')\n",
    "plt.annotate(str(dr[3][aphelion] / 1e6), (x[aphelion], dr[3][aphelion]))\n",
    "plt.plot(x[perihelion], dr[3][perihelion], 'ro')\n",
    "plt.annotate(str(dr[3][perihelion] / 1e6), (x[perihelion], dr[3][perihelion]))\n",
    "plt.title('Earth orbit params (aphelion, perihelion), m')\n",
    "plt.show()\n",
    "\n",
    "# Plotting data"
   ],
   "outputs": [],
   "execution_count": null
  },
  {
   "cell_type": "code",
   "id": "dcf6f4ad7ee0e988",
   "metadata": {},
   "source": [
    "x = []\n",
    "y = [ [] for _ in uni.kinetic_registry ]\n",
    "ax = [ [] for _ in uni.kinetic_registry ]\n",
    "ay = [ [] for _ in uni.kinetic_registry ]\n",
    "dr = [ [] for _ in uni.kinetic_registry ]\n",
    "E = [ [] for _ in uni.kinetic_registry ]\n",
    "\n",
    "DT = 1\n",
    "\n",
    "for tick in range(TICKS):\n",
    "    for i in range(len(uni.kinetic_registry)):\n",
    "        planet = uni.kinetic_registry._Registry__registry[i]\n",
    "        y[i].append(planet.current_velocity.magnitude)\n",
    "    \n",
    "        ax[i].append(planet.current_velocity.x)\n",
    "        ay[i].append(planet.current_velocity.y)\n",
    "        Ek = (planet.current_velocity.magnitude ** 2) / 2\n",
    "        Ep = universe_utils.distance(planet, sun)\n",
    "        E[i].append(Ek + Ep)\n",
    "        dr.append(universe_utils.distance(planet, sun))\n",
    "    x.append(DT)\n",
    "    uni.tick(DT)\n",
    "    DT += 0.5"
   ],
   "outputs": [],
   "execution_count": null
  },
  {
   "metadata": {},
   "cell_type": "code",
   "source": [
    "for Ep in E[1:]:\n",
    "    if len(x) != len(Ep):\n",
    "        continue\n",
    "    avg = sum(Ep) / len(Ep)\n",
    "    err = [ ((energy / avg) - 1) * 100 for energy in Ep ]\n",
    "    plt.plot(x, err, label=f\"{planets[E.index(Ep)]}\")\n",
    "    \n",
    "plt.legend()\n",
    "plt.title(f\"System energy error over time (variable DT\")\n",
    "plt.xlabel('Time')\n",
    "plt.ylabel('drift, %')\n",
    "plt.show()\n",
    "\n",
    "# Plotting data"
   ],
   "id": "5283004a-19a9-4db0-8c87-7ab18bac7f1f",
   "outputs": [],
   "execution_count": null
  },
  {
   "cell_type": "code",
   "id": "a510d4fa-850f-42f9-9077-91b888fbf871",
   "metadata": {},
   "source": [
    "uni.finalize()\n",
    "\n",
    "# Cleanup all kinetics, restart the universe"
   ],
   "outputs": [],
   "execution_count": null
  }
 ],
 "metadata": {
  "kernelspec": {
   "display_name": "Python 3 (ipykernel)",
   "language": "python",
   "name": "python3"
  },
  "language_info": {
   "codemirror_mode": {
    "name": "ipython",
    "version": 3
   },
   "file_extension": ".py",
   "mimetype": "text/x-python",
   "name": "python",
   "nbconvert_exporter": "python",
   "pygments_lexer": "ipython3",
   "version": "3.12.9"
  }
 },
 "nbformat": 4,
 "nbformat_minor": 5
}
